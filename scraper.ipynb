{
 "cells": [
  {
   "cell_type": "code",
   "execution_count": 4,
   "id": "4b836e09",
   "metadata": {},
   "outputs": [
    {
     "name": "stdout",
     "output_type": "stream",
     "text": [
      "[]\n"
     ]
    }
   ],
   "source": [
    "import requests\n",
    "from bs4 import BeautifulSoup\n",
    "import time\n",
    "import csv\n",
    "\n",
    "base_url = \"https://bina.az/items/all\"\n",
    "headers = {'User-Agent': 'Mozilla/5.0'}\n",
    "\n",
    "def get_links_from_base():\n",
    "    # Send a request to the base URL\n",
    "    response = requests.get(base_url, headers=headers)\n",
    "    soup = BeautifulSoup(response.text, \"html.parser\")\n",
    "\n",
    "    links = []\n",
    "    # Select all ad links from the page\n",
    "    for a in soup.select(\"a.items-i-link\"):  # This class matches the ad links\n",
    "        href = a.get(\"href\")\n",
    "        if href:\n",
    "            links.append(href)\n",
    "    with open(\"test.txt\", mode=\"a\", newline=\"\", encoding=\"utf-8\") as f:\n",
    "        f.write(response.text)\n",
    "    return links\n",
    "\n",
    "print(get_links_from_base())"
   ]
  },
  {
   "cell_type": "code",
   "execution_count": null,
   "id": "57aa24ee",
   "metadata": {},
   "outputs": [],
   "source": []
  }
 ],
 "metadata": {
  "kernelspec": {
   "display_name": "Python 3",
   "language": "python",
   "name": "python3"
  },
  "language_info": {
   "codemirror_mode": {
    "name": "ipython",
    "version": 3
   },
   "file_extension": ".py",
   "mimetype": "text/x-python",
   "name": "python",
   "nbconvert_exporter": "python",
   "pygments_lexer": "ipython3",
   "version": "3.12.4"
  }
 },
 "nbformat": 4,
 "nbformat_minor": 5
}
